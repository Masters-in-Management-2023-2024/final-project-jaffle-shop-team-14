{
  "cells": [
    {
      "cell_type": "markdown",
      "metadata": {
        "id": "97T-f8rfSMCY"
      },
      "source": [
        "# Jaffle Shop Data Analysis - Final Project\n",
        "\n",
        "## Instructions\n",
        "You have been hired as a data analyst for Jaffle Shop, a growing chain of gourmet toasted sandwich restaurants. The executive team needs insights to make strategic business decisions.\n",
        "\n",
        "Using the provided datasets and Python Polars, analyze the business performance and provide data-driven recommendations. You must use Polars for all data manipulation and analysis.\n",
        "\n",
        "## Available Data\n",
        "- `Customers.csv`: Customer information\n",
        "- `Orders.csv`: Order transactions with totals and timestamps\n",
        "- `Items.csv`: Individual items within each order\n",
        "- `Products.csv`: Product catalog with prices and descriptions\n",
        "- `Stores.csv`: Store locations and opening dates\n",
        "- `Supplies.csv`: Supply costs for each product\n",
        "\n",
        "**Time Limit: 90 minutes**"
      ]
    },
    {
      "cell_type": "markdown",
      "metadata": {
        "id": "eyfAZj5eSMCa"
      },
      "source": [
        "## Setup and Data Loading"
      ]
    },
    {
      "cell_type": "code",
      "execution_count": 1,
      "metadata": {
        "id": "e4sr2av9SMCa"
      },
      "outputs": [],
      "source": [
        "# Import necessary libraries\n",
        "import polars as pl\n",
        "from datetime import datetime, timedelta\n",
        "import matplotlib.pyplot as plt\n",
        "\n",
        "# Set up plotting style\n",
        "plt.style.use('seaborn-v0_8-darkgrid')"
      ]
    },
    {
      "cell_type": "code",
      "source": [
        "# Load all datasets\n",
        "\n",
        "# load dataset using github path for customer data\n",
        "customers = pl.read_csv('https://raw.githubusercontent.com/philhetzel/opan5510-finalproject/refs/heads/main/data/Customers.csv')\n",
        "orders = pl.read_csv('https://raw.githubusercontent.com/philhetzel/opan5510-finalproject/refs/heads/main/data/Orders.csv')\n",
        "items = pl.read_csv('https://raw.githubusercontent.com/philhetzel/opan5510-finalproject/refs/heads/main/data/Items.csv')\n",
        "products = pl.read_csv('https://raw.githubusercontent.com/philhetzel/opan5510-finalproject/refs/heads/main/data/Products.csv')\n",
        "stores = pl.read_csv('https://raw.githubusercontent.com/philhetzel/opan5510-finalproject/refs/heads/main/data/Stores.csv')\n",
        "supplies = pl.read_csv('https://raw.githubusercontent.com/philhetzel/opan5510-finalproject/refs/heads/main/data/Supplies.csv')\n",
        "\n",
        "# Display basic information about each dataset\n",
        "print(\"Dataset shapes:\")\n",
        "print(f\"Customers: {customers.shape}\")\n",
        "print(f\"Customers: {customers.head()}\")\n",
        "print(f\"Orders: {orders.shape}\")\n",
        "print(f\"Orders: {orders.head()}\")\n",
        "print(f\"Items: {items.shape}\")\n",
        "print(f\"Items: {items.head()}\")\n",
        "print(f\"Products: {products.shape}\")\n",
        "print(f\"Products: {products.head()}\")\n",
        "print(f\"Stores: {stores.shape}\")\n",
        "print(f\"Stores: {stores.head()}\")\n",
        "print(f\"Supplies: {supplies.shape}\")\n",
        "print(f\"Supplies: {supplies.head()}\")"
      ],
      "metadata": {
        "colab": {
          "base_uri": "https://localhost:8080/"
        },
        "id": "6lxt2Bk9TuiR",
        "outputId": "b0226c43-0966-43c2-d62c-d69039a33673"
      },
      "execution_count": 2,
      "outputs": [
        {
          "output_type": "stream",
          "name": "stdout",
          "text": [
            "Dataset shapes:\n",
            "Customers: (932, 2)\n",
            "Customers: shape: (5, 2)\n",
            "┌─────────────────────────────────┬────────────────┐\n",
            "│ id                              ┆ name           │\n",
            "│ ---                             ┆ ---            │\n",
            "│ str                             ┆ str            │\n",
            "╞═════════════════════════════════╪════════════════╡\n",
            "│ ae3a050d-287f-4257-a778-cdb420… ┆ Anthony Wells  │\n",
            "│ 33a51363-1989-4967-93a1-b8e225… ┆ Scott Thompson │\n",
            "│ 2f8f7de0-4c62-4b87-8494-6a50d6… ┆ Michael Walker │\n",
            "│ 46f7be1b-f2bc-4a91-a7c3-88c141… ┆ Alicia Clark   │\n",
            "│ c616a2a2-5efc-4e22-9db1-50dfa4… ┆ Dawn Williams  │\n",
            "└─────────────────────────────────┴────────────────┘\n",
            "Orders: (63148, 7)\n",
            "Orders: shape: (5, 7)\n",
            "┌───────────────┬───────────────┬───────────────┬──────────────┬──────────┬──────────┬─────────────┐\n",
            "│ id            ┆ customer      ┆ ordered_at    ┆ store_id     ┆ subtotal ┆ tax_paid ┆ order_total │\n",
            "│ ---           ┆ ---           ┆ ---           ┆ ---          ┆ ---      ┆ ---      ┆ ---         │\n",
            "│ str           ┆ str           ┆ str           ┆ str          ┆ i64      ┆ i64      ┆ i64         │\n",
            "╞═══════════════╪═══════════════╪═══════════════╪══════════════╪══════════╪══════════╪═════════════╡\n",
            "│ 363ab5f2-78b4 ┆ ae3a050d-287f ┆ 2016-09-01T14 ┆ a9128331-08d ┆ 1700     ┆ 102      ┆ 1802        │\n",
            "│ -4227-9333-97 ┆ -4257-a778-cd ┆ :49:00        ┆ 7-41a2-b615- ┆          ┆          ┆             │\n",
            "│ 01ef…         ┆ b420…         ┆               ┆ 21283e…      ┆          ┆          ┆             │\n",
            "│ d6cdb882-aa8c ┆ 33a51363-1989 ┆ 2016-09-01T08 ┆ a9128331-08d ┆ 600      ┆ 36       ┆ 636         │\n",
            "│ -4b5a-a478-43 ┆ -4967-93a1-b8 ┆ :21:00        ┆ 7-41a2-b615- ┆          ┆          ┆             │\n",
            "│ 21ef…         ┆ e225…         ┆               ┆ 21283e…      ┆          ┆          ┆             │\n",
            "│ ca934a93-aca1 ┆ 2f8f7de0-4c62 ┆ 2016-09-01T08 ┆ a9128331-08d ┆ 700      ┆ 42       ┆ 742         │\n",
            "│ -4aeb-9786-ef ┆ -4b87-8494-6a ┆ :59:00        ┆ 7-41a2-b615- ┆          ┆          ┆             │\n",
            "│ b0da…         ┆ 50d6…         ┆               ┆ 21283e…      ┆          ┆          ┆             │\n",
            "│ ecd64383-c4df ┆ 46f7be1b-f2bc ┆ 2016-09-01T16 ┆ a9128331-08d ┆ 500      ┆ 30       ┆ 530         │\n",
            "│ -41aa-b270-f3 ┆ -4a91-a7c3-88 ┆ :42:00        ┆ 7-41a2-b615- ┆          ┆          ┆             │\n",
            "│ b110…         ┆ c141…         ┆               ┆ 21283e…      ┆          ┆          ┆             │\n",
            "│ adae1fcd-20b7 ┆ c616a2a2-5efc ┆ 2016-09-01T09 ┆ a9128331-08d ┆ 600      ┆ 36       ┆ 636         │\n",
            "│ -4f40-af1c-dc ┆ -4e22-9db1-50 ┆ :07:00        ┆ 7-41a2-b615- ┆          ┆          ┆             │\n",
            "│ 121d…         ┆ dfa4…         ┆               ┆ 21283e…      ┆          ┆          ┆             │\n",
            "└───────────────┴───────────────┴───────────────┴──────────────┴──────────┴──────────┴─────────────┘\n",
            "Items: (90184, 3)\n",
            "Items: shape: (5, 3)\n",
            "┌─────────────────────────────────┬─────────────────────────────────┬─────────┐\n",
            "│ id                              ┆ order_id                        ┆ sku     │\n",
            "│ ---                             ┆ ---                             ┆ ---     │\n",
            "│ str                             ┆ str                             ┆ str     │\n",
            "╞═════════════════════════════════╪═════════════════════════════════╪═════════╡\n",
            "│ 6136835c-cfa4-4308-bd65-440f7b… ┆ 363ab5f2-78b4-4227-9333-9701ef… ┆ BEV-001 │\n",
            "│ 6136835c-cfa4-4308-bd65-440f7b… ┆ 363ab5f2-78b4-4227-9333-9701ef… ┆ BEV-001 │\n",
            "│ 1a5fc7f0-1573-454a-ae79-576673… ┆ 363ab5f2-78b4-4227-9333-9701ef… ┆ JAF-002 │\n",
            "│ d32d93ca-250b-47b2-b640-cb482e… ┆ d6cdb882-aa8c-4b5a-a478-4321ef… ┆ BEV-001 │\n",
            "│ 8dabb27c-fcc2-4513-8adf-886cdc… ┆ ca934a93-aca1-4aeb-9786-efb0da… ┆ BEV-004 │\n",
            "└─────────────────────────────────┴─────────────────────────────────┴─────────┘\n",
            "Products: (10, 5)\n",
            "Products: shape: (5, 5)\n",
            "┌─────────┬───────────────────────┬────────┬───────┬─────────────────────────────────┐\n",
            "│ sku     ┆ name                  ┆ type   ┆ price ┆ description                     │\n",
            "│ ---     ┆ ---                   ┆ ---    ┆ ---   ┆ ---                             │\n",
            "│ str     ┆ str                   ┆ str    ┆ i64   ┆ str                             │\n",
            "╞═════════╪═══════════════════════╪════════╪═══════╪═════════════════════════════════╡\n",
            "│ JAF-001 ┆ nutellaphone who dis? ┆ jaffle ┆ 1100  ┆ nutella and banana jaffle       │\n",
            "│ JAF-002 ┆ doctor stew           ┆ jaffle ┆ 1100  ┆ house-made beef stew jaffle     │\n",
            "│ JAF-003 ┆ the krautback         ┆ jaffle ┆ 1200  ┆ lamb and pork bratwurst with h… │\n",
            "│ JAF-004 ┆ flame impala          ┆ jaffle ┆ 1400  ┆ pulled pork and pineapple al p… │\n",
            "│ JAF-005 ┆ mel-bun               ┆ jaffle ┆ 1200  ┆ melon and minced beef bao, in … │\n",
            "└─────────┴───────────────────────┴────────┴───────┴─────────────────────────────────┘\n",
            "Stores: (6, 4)\n",
            "Stores: shape: (5, 4)\n",
            "┌─────────────────────────────────┬───────────────┬─────────────────────┬──────────┐\n",
            "│ id                              ┆ name          ┆ opened_at           ┆ tax_rate │\n",
            "│ ---                             ┆ ---           ┆ ---                 ┆ ---      │\n",
            "│ str                             ┆ str           ┆ str                 ┆ f64      │\n",
            "╞═════════════════════════════════╪═══════════════╪═════════════════════╪══════════╡\n",
            "│ a9128331-08d7-41a2-b615-21283e… ┆ Philadelphia  ┆ 2016-09-01T00:00:00 ┆ 0.06     │\n",
            "│ a2a24e87-dec8-4f5d-9c9e-0e9849… ┆ Brooklyn      ┆ 2017-03-12T00:00:00 ┆ 0.04     │\n",
            "│ e1a600e7-e70a-43a8-96fd-a6dd26… ┆ Chicago       ┆ 2018-04-29T00:00:00 ┆ 0.0625   │\n",
            "│ 0d16236e-9a7f-4cd6-a9ec-24b16f… ┆ San Francisco ┆ 2018-05-09T00:00:00 ┆ 0.075    │\n",
            "│ ca0b89cc-6d98-4b87-88e3-5a0d95… ┆ New Orleans   ┆ 2019-03-10T00:00:00 ┆ 0.04     │\n",
            "└─────────────────────────────────┴───────────────┴─────────────────────┴──────────┘\n",
            "Supplies: (65, 5)\n",
            "Supplies: shape: (5, 5)\n",
            "┌─────────┬─────────────────────────────┬──────┬────────────┬─────────┐\n",
            "│ id      ┆ name                        ┆ cost ┆ perishable ┆ sku     │\n",
            "│ ---     ┆ ---                         ┆ ---  ┆ ---        ┆ ---     │\n",
            "│ str     ┆ str                         ┆ i64  ┆ bool       ┆ str     │\n",
            "╞═════════╪═════════════════════════════╪══════╪════════════╪═════════╡\n",
            "│ SUP-001 ┆ compostable cutlery - knife ┆ 7    ┆ false      ┆ JAF-001 │\n",
            "│ SUP-002 ┆ cutlery - fork              ┆ 7    ┆ false      ┆ JAF-001 │\n",
            "│ SUP-003 ┆ serving boat                ┆ 11   ┆ false      ┆ JAF-001 │\n",
            "│ SUP-004 ┆ napkin                      ┆ 4    ┆ false      ┆ JAF-001 │\n",
            "│ SUP-009 ┆ bread                       ┆ 33   ┆ true       ┆ JAF-001 │\n",
            "└─────────┴─────────────────────────────┴──────┴────────────┴─────────┘\n"
          ]
        }
      ]
    },
    {
      "cell_type": "markdown",
      "metadata": {
        "id": "XuJGGZNhSMCb"
      },
      "source": [
        "## Question 1: Revenue Performance Analysis\n",
        "\n",
        "The CFO wants to understand the company's financial performance across different dimensions. Analyze:\n",
        "- What is the total revenue generated by Jaffle Shop? (Store result in variable: `total_revenue`)\n",
        "- How does revenue vary by store location? (Store result in variable: `revenue_by_store`)\n",
        "- What are the monthly revenue trends? (Store result in variable: `monthly_revenue_trends`)\n",
        "- Which day of the week generates the most revenue? (Store result in variable: `revenue_by_day_of_week`)\n",
        "- Include at least one chart for one of these questions"
      ]
    },
    {
      "cell_type": "code",
      "execution_count": 3,
      "metadata": {
        "colab": {
          "base_uri": "https://localhost:8080/"
        },
        "id": "bK1B0Wv3SMCb",
        "outputId": "6567236b-341c-4305-b8a3-9707b49fa0ad"
      },
      "outputs": [
        {
          "output_type": "stream",
          "name": "stdout",
          "text": [
            "Total Revenue: $66,038,193.00\n"
          ]
        }
      ],
      "source": [
        "# Q1.1: Calculate total revenue\n",
        "total_revenue = orders.select(pl.sum(\"order_total\")).item()\n",
        "print(f\"Total Revenue: ${total_revenue:,.2f}\")"
      ]
    },
    {
      "cell_type": "code",
      "execution_count": 4,
      "metadata": {
        "colab": {
          "base_uri": "https://localhost:8080/",
          "height": 193
        },
        "id": "1lah_ecASMCc",
        "outputId": "27b60bd5-ca8d-4685-93a0-64d3a4855757"
      },
      "outputs": [
        {
          "output_type": "stream",
          "name": "stdout",
          "text": [
            "Revenue by Store Location:\n"
          ]
        },
        {
          "output_type": "display_data",
          "data": {
            "text/plain": [
              "shape: (2, 2)\n",
              "┌──────────────┬──────────────────┐\n",
              "│ name         ┆ revenue_by_store │\n",
              "│ ---          ┆ ---              │\n",
              "│ str          ┆ str              │\n",
              "╞══════════════╪══════════════════╡\n",
              "│ Philadelphia ┆ $43,215,565.00   │\n",
              "│ Brooklyn     ┆ $22,822,628.00   │\n",
              "└──────────────┴──────────────────┘"
            ],
            "text/html": [
              "<div><style>\n",
              ".dataframe > thead > tr,\n",
              ".dataframe > tbody > tr {\n",
              "  text-align: right;\n",
              "  white-space: pre-wrap;\n",
              "}\n",
              "</style>\n",
              "<small>shape: (2, 2)</small><table border=\"1\" class=\"dataframe\"><thead><tr><th>name</th><th>revenue_by_store</th></tr><tr><td>str</td><td>str</td></tr></thead><tbody><tr><td>&quot;Philadelphia&quot;</td><td>&quot;$43,215,565.00&quot;</td></tr><tr><td>&quot;Brooklyn&quot;</td><td>&quot;$22,822,628.00&quot;</td></tr></tbody></table></div>"
            ]
          },
          "metadata": {}
        },
        {
          "output_type": "stream",
          "name": "stdout",
          "text": [
            "It can be seen that there has been no orders in the stores : Chicago, San Francisco and New Orleans \n"
          ]
        }
      ],
      "source": [
        "# Q1.2: Revenue by store location\n",
        "def format_currency_polars(value):\n",
        "    return f\"${value:,.2f}\"\n",
        "\n",
        "revenue_by_store = (\n",
        "    orders\n",
        "    .group_by(\"store_id\")\n",
        "    .agg(pl.col(\"order_total\").sum().alias(\"total_revenue\"))\n",
        "    .join(stores.select([\"id\", \"name\"]), left_on=\"store_id\", right_on=\"id\", how=\"left\")\n",
        "    .sort(\"total_revenue\", descending=True)\n",
        "    .with_columns(\n",
        "        pl.col(\"total_revenue\").map_elements(format_currency_polars, return_dtype=pl.Utf8).alias(\"revenue_by_store\")\n",
        "    )\n",
        ")\n",
        "\n",
        "print(\"Revenue by Store Location:\")\n",
        "display(revenue_by_store.select([\"name\", \"revenue_by_store\"]).head(5))\n",
        "print(\"It can be seen that there has been no orders in the stores : Chicago, San Francisco and New Orleans \")"
      ]
    },
    {
      "cell_type": "code",
      "execution_count": 5,
      "metadata": {
        "colab": {
          "base_uri": "https://localhost:8080/",
          "height": 455
        },
        "id": "pznMvJI0SMCc",
        "outputId": "b41f8663-34e1-4163-ae1f-7cca6affb635"
      },
      "outputs": [
        {
          "output_type": "stream",
          "name": "stdout",
          "text": [
            "Monthly Revenue Trends:\n"
          ]
        },
        {
          "output_type": "display_data",
          "data": {
            "text/plain": [
              "shape: (12, 4)\n",
              "┌──────┬───────┬─────────────────┬────────────────────────────┐\n",
              "│ year ┆ month ┆ monthly_revenue ┆ monthly_revenue_difference │\n",
              "│ ---  ┆ ---   ┆ ---             ┆ ---                        │\n",
              "│ i32  ┆ i8    ┆ str             ┆ str                        │\n",
              "╞══════╪═══════╪═════════════════╪════════════════════════════╡\n",
              "│ 2016 ┆ 9     ┆ $1,644,922.00   ┆ null                       │\n",
              "│ 2016 ┆ 10    ┆ $1,956,651.00   ┆ $311,729.00                │\n",
              "│ 2016 ┆ 11    ┆ $2,552,662.00   ┆ $596,011.00                │\n",
              "│ 2016 ┆ 12    ┆ $3,307,337.00   ┆ $754,675.00                │\n",
              "│ 2017 ┆ 1     ┆ $3,821,291.00   ┆ $513,954.00                │\n",
              "│ …    ┆ …     ┆ …               ┆ …                          │\n",
              "│ 2017 ┆ 4     ┆ $7,392,014.00   ┆ $779,953.00                │\n",
              "│ 2017 ┆ 5     ┆ $8,469,909.00   ┆ $1,077,895.00              │\n",
              "│ 2017 ┆ 6     ┆ $8,617,148.00   ┆ $147,239.00                │\n",
              "│ 2017 ┆ 7     ┆ $8,585,320.00   ┆ $-31,828.00                │\n",
              "│ 2017 ┆ 8     ┆ $9,332,296.00   ┆ $746,976.00                │\n",
              "└──────┴───────┴─────────────────┴────────────────────────────┘"
            ],
            "text/html": [
              "<div><style>\n",
              ".dataframe > thead > tr,\n",
              ".dataframe > tbody > tr {\n",
              "  text-align: right;\n",
              "  white-space: pre-wrap;\n",
              "}\n",
              "</style>\n",
              "<small>shape: (12, 4)</small><table border=\"1\" class=\"dataframe\"><thead><tr><th>year</th><th>month</th><th>monthly_revenue</th><th>monthly_revenue_difference</th></tr><tr><td>i32</td><td>i8</td><td>str</td><td>str</td></tr></thead><tbody><tr><td>2016</td><td>9</td><td>&quot;$1,644,922.00&quot;</td><td>null</td></tr><tr><td>2016</td><td>10</td><td>&quot;$1,956,651.00&quot;</td><td>&quot;$311,729.00&quot;</td></tr><tr><td>2016</td><td>11</td><td>&quot;$2,552,662.00&quot;</td><td>&quot;$596,011.00&quot;</td></tr><tr><td>2016</td><td>12</td><td>&quot;$3,307,337.00&quot;</td><td>&quot;$754,675.00&quot;</td></tr><tr><td>2017</td><td>1</td><td>&quot;$3,821,291.00&quot;</td><td>&quot;$513,954.00&quot;</td></tr><tr><td>&hellip;</td><td>&hellip;</td><td>&hellip;</td><td>&hellip;</td></tr><tr><td>2017</td><td>4</td><td>&quot;$7,392,014.00&quot;</td><td>&quot;$779,953.00&quot;</td></tr><tr><td>2017</td><td>5</td><td>&quot;$8,469,909.00&quot;</td><td>&quot;$1,077,895.00&quot;</td></tr><tr><td>2017</td><td>6</td><td>&quot;$8,617,148.00&quot;</td><td>&quot;$147,239.00&quot;</td></tr><tr><td>2017</td><td>7</td><td>&quot;$8,585,320.00&quot;</td><td>&quot;$-31,828.00&quot;</td></tr><tr><td>2017</td><td>8</td><td>&quot;$9,332,296.00&quot;</td><td>&quot;$746,976.00&quot;</td></tr></tbody></table></div>"
            ]
          },
          "metadata": {}
        }
      ],
      "source": [
        "# Q1.3: Monthly revenue trends\n",
        "\n",
        "# Convert 'ordered_at' to datetime\n",
        "orders_with_month = orders.with_columns(pl.col(\"ordered_at\").str.strptime(pl.Datetime, \"%Y-%m-%dT%H:%M:%S\").cast(pl.Date).alias(\"order_date\"))\n",
        "\n",
        "# Extract year and month, also adding the change in monthly revenue each month:\n",
        "monthly_revenue_trends = (orders_with_month.group_by(pl.col(\"order_date\").dt.year().alias(\"year\"), pl.col(\"order_date\").dt.month().alias(\"month\"))\n",
        "                          .agg(pl.sum(\"order_total\").alias(\"monthly_revenue\"))\n",
        "                          .sort([\"year\", \"month\"])\n",
        "                          .with_columns(pl.col(\"monthly_revenue\").shift(1).alias(\"previous_monthly_revenue\"))\n",
        "                          .with_columns((pl.col(\"monthly_revenue\") - pl.col(\"previous_monthly_revenue\")).alias(\"monthly_revenue_change\"))\n",
        "                          .with_columns(\n",
        "                              pl.col(\"monthly_revenue_change\").map_elements(format_currency_polars, return_dtype=pl.Utf8).alias(\"monthly_revenue_difference\")\n",
        "                          )\n",
        ")\n",
        "\n",
        "print(\"Monthly Revenue Trends:\")\n",
        "display(\n",
        "    monthly_revenue_trends.with_columns(\n",
        "        pl.col(\"monthly_revenue\").map_elements(format_currency_polars, return_dtype=pl.Utf8).alias(\"monthly_revenue\"))\n",
        "    .select([\"year\", \"month\", \"monthly_revenue\", \"monthly_revenue_difference\"]))"
      ]
    },
    {
      "cell_type": "code",
      "execution_count": 20,
      "metadata": {
        "colab": {
          "base_uri": "https://localhost:8080/",
          "height": 938
        },
        "id": "VMHkDfaoSMCc",
        "outputId": "a4258244-bd6c-41a3-aafc-e53604c90aa4"
      },
      "outputs": [
        {
          "output_type": "stream",
          "name": "stdout",
          "text": [
            "Revenue by Day of Week:\n"
          ]
        },
        {
          "output_type": "display_data",
          "data": {
            "text/plain": [
              "shape: (7, 2)\n",
              "┌───────────────────┬───────────────┐\n",
              "│ order_day_of_week ┆ daily_revenue │\n",
              "│ ---               ┆ ---           │\n",
              "│ str               ┆ i64           │\n",
              "╞═══════════════════╪═══════════════╡\n",
              "│ Monday            ┆ 10611971      │\n",
              "│ Tuesday           ┆ 10814455      │\n",
              "│ Wednesday         ┆ 10834569      │\n",
              "│ Thursday          ┆ 10829195      │\n",
              "│ Friday            ┆ 10758715      │\n",
              "│ Saturday          ┆ 5981489       │\n",
              "│ Sunday            ┆ 6207799       │\n",
              "└───────────────────┴───────────────┘"
            ],
            "text/html": [
              "<div><style>\n",
              ".dataframe > thead > tr,\n",
              ".dataframe > tbody > tr {\n",
              "  text-align: right;\n",
              "  white-space: pre-wrap;\n",
              "}\n",
              "</style>\n",
              "<small>shape: (7, 2)</small><table border=\"1\" class=\"dataframe\"><thead><tr><th>order_day_of_week</th><th>daily_revenue</th></tr><tr><td>str</td><td>i64</td></tr></thead><tbody><tr><td>&quot;Monday&quot;</td><td>10611971</td></tr><tr><td>&quot;Tuesday&quot;</td><td>10814455</td></tr><tr><td>&quot;Wednesday&quot;</td><td>10834569</td></tr><tr><td>&quot;Thursday&quot;</td><td>10829195</td></tr><tr><td>&quot;Friday&quot;</td><td>10758715</td></tr><tr><td>&quot;Saturday&quot;</td><td>5981489</td></tr><tr><td>&quot;Sunday&quot;</td><td>6207799</td></tr></tbody></table></div>"
            ]
          },
          "metadata": {}
        },
        {
          "output_type": "stream",
          "name": "stdout",
          "text": [
            "Highest revenue day: Wednesday with $10,834,569.00\n"
          ]
        },
        {
          "output_type": "display_data",
          "data": {
            "text/plain": [
              "<Figure size 1000x600 with 1 Axes>"
            ],
            "image/png": "[encoded data removed]"
          },
          "metadata": {}
        }
      ],
      "source": [
        "# Q1.4: Revenue by day of week\n",
        "# Extract day of the week\n",
        "revenue_by_day_of_week_table = orders_with_month.with_columns(\n",
        "    pl.col(\"order_date\").dt.weekday().alias(\"order_day_of_week_num\") # Extract weekday number (Monday=1, Sunday=7)\n",
        ").group_by(\"order_day_of_week_num\").agg(pl.sum(\"order_total\").alias(\"daily_revenue\")).sort(\"order_day_of_week_num\") # Sort by weekday number\n",
        "\n",
        "# Map weekday numbers to names for display and plotting\n",
        "weekday_names = [\"Monday\", \"Tuesday\", \"Wednesday\", \"Thursday\", \"Friday\", \"Saturday\", \"Sunday\"]\n",
        "revenue_by_day_of_week_table = revenue_by_day_of_week_table.with_columns(\n",
        "    pl.col(\"order_day_of_week_num\").map_elements(lambda x: weekday_names[x - 1], return_dtype=pl.Utf8).alias(\"order_day_of_week\")\n",
        ")\n",
        "\n",
        "print(\"Revenue by Day of Week:\")\n",
        "display(revenue_by_day_of_week_table.select([\"order_day_of_week\", \"daily_revenue\"]))\n",
        "\n",
        "#printing the max revenue of the week day\n",
        "highest_revenue_day_row = revenue_by_day_of_week_table.sort(\"daily_revenue\", descending=True).row(0)\n",
        "revenue_by_day_of_week = highest_revenue_day_row[2] # Get the revenue value\n",
        "highest_revenue = highest_revenue_day_row[1] # Get the day name\n",
        "print(f\"Highest revenue day: {revenue_by_day_of_week} with ${highest_revenue:,.2f}\")\n",
        "\n",
        "\n",
        "#plotting\n",
        "weekdays = revenue_by_day_of_week_table['order_day_of_week'].to_list()\n",
        "revenues = revenue_by_day_of_week_table['daily_revenue'].to_list()\n",
        "\n",
        "highest_revenue_day_index = weekdays.index(highest_revenue_day_name)\n",
        "\n",
        "colors = [\"gray\"] * len(revenues)\n",
        "colors[highest_revenue_day_index] = \"green\"\n",
        "\n",
        "plt.figure(figsize=(10, 6)) # Increase figure size for better readability\n",
        "plt.bar(weekdays, revenues, color = colors)\n",
        "plt.xlabel('Day of the Week')\n",
        "plt.ylabel('Total Revenue')\n",
        "plt.title('Total Revenue by Day of the Week')\n",
        "plt.xticks(rotation=45, ha='right') # Rotate x-axis labels for better readability\n",
        "plt.tight_layout() # Adjust layout to prevent labels overlapping\n",
        "plt.show()"
      ]
    },
    {
      "cell_type": "markdown",
      "metadata": {
        "id": "Oxsf6XDHSMCc"
      },
      "source": [
        "## Question 2: Product Performance\n",
        "\n",
        "The Product Manager needs insights about the menu items:\n",
        "- What is the revenue contribution of each product category (jaffles vs beverages)? (Store result in variable: `revenue_by_category`)\n",
        "- What is the average price of products by type (jaffles vs beverages)?\n",
        "- Include at least one chart to answer one of the above questions."
      ]
    },
    {
      "cell_type": "code",
      "execution_count": 24,
      "metadata": {
        "colab": {
          "base_uri": "https://localhost:8080/",
          "height": 783
        },
        "id": "Hx7faRmvSMCd",
        "outputId": "4f61f144-a5e0-49bf-88fa-15d6089e92a6"
      },
      "outputs": [
        {
          "output_type": "stream",
          "name": "stdout",
          "text": [
            "\n",
            "Revenue contribution by product category:\n"
          ]
        },
        {
          "output_type": "display_data",
          "data": {
            "text/plain": [
              "shape: (2, 2)\n",
              "┌──────────┬─────────────────┐\n",
              "│ type     ┆ total_revenue_$ │\n",
              "│ ---      ┆ ---             │\n",
              "│ str      ┆ str             │\n",
              "╞══════════╪═════════════════╡\n",
              "│ beverage ┆ $39,836,200.00  │\n",
              "│ jaffle   ┆ $22,880,900.00  │\n",
              "└──────────┴─────────────────┘"
            ],
            "text/html": [
              "<div><style>\n",
              ".dataframe > thead > tr,\n",
              ".dataframe > tbody > tr {\n",
              "  text-align: right;\n",
              "  white-space: pre-wrap;\n",
              "}\n",
              "</style>\n",
              "<small>shape: (2, 2)</small><table border=\"1\" class=\"dataframe\"><thead><tr><th>type</th><th>total_revenue_$</th></tr><tr><td>str</td><td>str</td></tr></thead><tbody><tr><td>&quot;beverage&quot;</td><td>&quot;$39,836,200.00&quot;</td></tr><tr><td>&quot;jaffle&quot;</td><td>&quot;$22,880,900.00&quot;</td></tr></tbody></table></div>"
            ]
          },
          "metadata": {}
        },
        {
          "output_type": "display_data",
          "data": {
            "text/plain": [
              "<Figure size 1000x600 with 1 Axes>"
            ],
            "image/png": "[encoded data removed]"
          },
          "metadata": {}
        }
      ],
      "source": [
        "# Q2.1: Revenue by product category\n",
        "# Your code here\n",
        "\n",
        "import matplotlib.pyplot as plt\n",
        "import matplotlib.ticker as mtick\n",
        "\n",
        "# Join items with products to get type and price\n",
        "items_with_price = items.join(products.select([\"sku\", \"type\", \"price\"]), on=\"sku\")\n",
        "\n",
        "# Group by product type and sum the price to get revenue contribution\n",
        "revenue_by_category = (\n",
        "    items_with_price.group_by(\"type\")\n",
        "    .agg(pl.sum(\"price\").alias(\"total_revenue\"))\n",
        "    .sort(\"total_revenue\", descending=True)\n",
        ")\n",
        "\n",
        "# Helper function to format as currency\n",
        "def fmt_currency(x: float) -> str:\n",
        "    return \"${:,.2f}\".format(x)\n",
        "\n",
        "# Display the result nicely\n",
        "print(\"\\nRevenue contribution by product category:\")\n",
        "display(\n",
        "    revenue_by_category.with_columns(\n",
        "        pl.col(\"total_revenue\").map_elements(fmt_currency, return_dtype=pl.Utf8)\n",
        "        .alias(\"total_revenue_$\")\n",
        "    ).select([\"type\", \"total_revenue_$\"])\n",
        ")\n",
        "\n",
        "# --- Bar Chart ---\n",
        "plt.figure(figsize=(10, 6))\n",
        "plt.bar(revenue_by_category[\"type\"], revenue_by_category[\"total_revenue\"], color=\"#4C72B0\")\n",
        "plt.title(\"Revenue Contribution by Product Category\")\n",
        "plt.xlabel(\"Product Category\")\n",
        "plt.ylabel(\"Revenue ($)\")\n",
        "plt.xticks(rotation=0)\n",
        "plt.gca().yaxis.set_major_formatter(mtick.StrMethodFormatter('${x:,.0f}'))\n",
        "plt.tight_layout()\n",
        "plt.show()"
      ]
    },
    {
      "cell_type": "code",
      "execution_count": 30,
      "metadata": {
        "colab": {
          "base_uri": "https://localhost:8080/",
          "height": 176
        },
        "id": "AclpVDMNSMCd",
        "outputId": "d223f5ea-fd75-4e55-c606-fbbf2c1df8f7"
      },
      "outputs": [
        {
          "output_type": "stream",
          "name": "stdout",
          "text": [
            "Average Product Price by Category:\n"
          ]
        },
        {
          "output_type": "display_data",
          "data": {
            "text/plain": [
              "shape: (2, 2)\n",
              "┌──────────┬───────────────┐\n",
              "│ type     ┆ average_price │\n",
              "│ ---      ┆ ---           │\n",
              "│ str      ┆ f64           │\n",
              "╞══════════╪═══════════════╡\n",
              "│ jaffle   ┆ 1200.0        │\n",
              "│ beverage ┆ 560.0         │\n",
              "└──────────┴───────────────┘"
            ],
            "text/html": [
              "<div><style>\n",
              ".dataframe > thead > tr,\n",
              ".dataframe > tbody > tr {\n",
              "  text-align: right;\n",
              "  white-space: pre-wrap;\n",
              "}\n",
              "</style>\n",
              "<small>shape: (2, 2)</small><table border=\"1\" class=\"dataframe\"><thead><tr><th>type</th><th>average_price</th></tr><tr><td>str</td><td>f64</td></tr></thead><tbody><tr><td>&quot;jaffle&quot;</td><td>1200.0</td></tr><tr><td>&quot;beverage&quot;</td><td>560.0</td></tr></tbody></table></div>"
            ]
          },
          "metadata": {}
        }
      ],
      "source": [
        "# Q2.2 Average price of products by type\n",
        "average_price_by_type = products.group_by(\"type\").agg(pl.mean(\"price\").alias(\"average_price\"))\n",
        "\n",
        "print(\"Average Product Price by Category:\")\n",
        "display(average_price_by_type)"
      ]
    },
    {
      "cell_type": "code",
      "source": [
        "import matplotlib.pyplot as plt\n",
        "\n",
        "# Plot Revenue by Product Category\n",
        "fig, ax = plt.subplots(figsize=(8, 5))\n",
        "ax.bar(revenue_by_category[\"type\"], revenue_by_category[\"total_revenue\"])\n",
        "ax.set_title(\"Revenue by Product Category\")\n",
        "ax.set_xlabel(\"Product Category\")\n",
        "ax.set_ylabel(\"Total Revenue ($)\")\n",
        "plt.tight_layout()\n",
        "plt.show()"
      ],
      "metadata": {
        "colab": {
          "base_uri": "https://localhost:8080/",
          "height": 507
        },
        "id": "6AbXWKVIY_K-",
        "outputId": "51367763-d46f-4da0-ef4e-17b6b5e2d378"
      },
      "execution_count": null,
      "outputs": [
        {
          "output_type": "display_data",
          "data": {
            "text/plain": [
              "<Figure size 800x500 with 1 Axes>"
            ],
            "image/png": "[encoded data removed]"
          },
          "metadata": {}
        }
      ]
    },
    {
      "cell_type": "markdown",
      "metadata": {
        "id": "8AZ1XlQCSMCd"
      },
      "source": [
        "## Question 3: Store Expansion Strategy\n",
        "\n",
        "The Operations Director is planning expansion strategies:\n",
        "- Which stores have the highest revenue per day since opening? (Store result in variable: `revenue_per_day_by_store`)\n",
        "- What is the relationship between local tax rates and store performance? (Store result in variable: `tax_rate_performance`)\n",
        "- Include at least one chart to answer one of the above questions."
      ]
    },
    {
      "cell_type": "code",
      "execution_count": 35,
      "metadata": {
        "colab": {
          "base_uri": "https://localhost:8080/",
          "height": 783
        },
        "id": "bE_wvXkmSMCd",
        "outputId": "7b04bde2-dd42-4daa-edc6-6d7812325481"
      },
      "outputs": [
        {
          "output_type": "stream",
          "name": "stdout",
          "text": [
            "\n",
            "Revenue per Day Since Opening by Store:\n"
          ]
        },
        {
          "output_type": "display_data",
          "data": {
            "text/plain": [
              "shape: (2, 4)\n",
              "┌──────────────┬─────────────────┬─────────────────┬───────────────────┐\n",
              "│ store_name   ┆ total_revenue_$ ┆ total_days_open ┆ revenue_per_day_$ │\n",
              "│ ---          ┆ ---             ┆ ---             ┆ ---               │\n",
              "│ str          ┆ str             ┆ i64             ┆ str               │\n",
              "╞══════════════╪═════════════════╪═════════════════╪═══════════════════╡\n",
              "│ Brooklyn     ┆ $22,822,628.00  ┆ 173             ┆ $131,922.71       │\n",
              "│ Philadelphia ┆ $43,215,565.00  ┆ 365             ┆ $118,398.81       │\n",
              "└──────────────┴─────────────────┴─────────────────┴───────────────────┘"
            ],
            "text/html": [
              "<div><style>\n",
              ".dataframe > thead > tr,\n",
              ".dataframe > tbody > tr {\n",
              "  text-align: right;\n",
              "  white-space: pre-wrap;\n",
              "}\n",
              "</style>\n",
              "<small>shape: (2, 4)</small><table border=\"1\" class=\"dataframe\"><thead><tr><th>store_name</th><th>total_revenue_$</th><th>total_days_open</th><th>revenue_per_day_$</th></tr><tr><td>str</td><td>str</td><td>i64</td><td>str</td></tr></thead><tbody><tr><td>&quot;Brooklyn&quot;</td><td>&quot;$22,822,628.00&quot;</td><td>173</td><td>&quot;$131,922.71&quot;</td></tr><tr><td>&quot;Philadelphia&quot;</td><td>&quot;$43,215,565.00&quot;</td><td>365</td><td>&quot;$118,398.81&quot;</td></tr></tbody></table></div>"
            ]
          },
          "metadata": {}
        },
        {
          "output_type": "display_data",
          "data": {
            "text/plain": [
              "<Figure size 1000x600 with 1 Axes>"
            ],
            "image/png": "[encoded data removed]"
          },
          "metadata": {}
        }
      ],
      "source": [
        "# Q3.1: Revenue per day since opening by store\n",
        "# Your code here\n",
        "\n",
        "import polars as pl\n",
        "import matplotlib.pyplot as plt\n",
        "import matplotlib.ticker as mtick\n",
        "\n",
        "# Helper function to format currency\n",
        "def fmt_currency(x: float) -> str:\n",
        "    return \"${:,.2f}\".format(x)\n",
        "\n",
        "# Revenue per day since opening by store\n",
        "revenue_per_day_by_store = (\n",
        "    orders.join(stores.select([\"id\", \"opened_at\", \"name\"]), left_on=\"store_id\", right_on=\"id\")\n",
        "    .with_columns([\n",
        "        pl.col(\"ordered_at\").str.strptime(pl.Datetime, \"%Y-%m-%dT%H:%M:%S\").alias(\"ordered_at_dt\"),\n",
        "        pl.col(\"opened_at\").str.strptime(pl.Datetime, \"%Y-%m-%dT%H:%M:%S\").alias(\"opened_at_dt\")\n",
        "    ])\n",
        "    .with_columns(\n",
        "        ((pl.col(\"ordered_at_dt\") - pl.col(\"opened_at_dt\")).dt.total_days() + 1).alias(\"days_since_opening\")\n",
        "    )\n",
        "    .group_by(\"store_id\")\n",
        "    .agg([\n",
        "        pl.sum(\"order_total\").alias(\"total_revenue\"),\n",
        "        pl.max(\"days_since_opening\").alias(\"total_days_open\"),\n",
        "        pl.first(\"name\").alias(\"store_name\")\n",
        "    ])\n",
        "    .with_columns((pl.col(\"total_revenue\") / pl.col(\"total_days_open\")).alias(\"revenue_per_day\"))\n",
        "    .sort(\"revenue_per_day\", descending=True)\n",
        ")\n",
        "\n",
        "\n",
        "print(\"\\nRevenue per Day Since Opening by Store:\")\n",
        "display(\n",
        "    revenue_per_day_by_store.with_columns([\n",
        "        pl.col(\"total_revenue\").map_elements(fmt_currency, return_dtype=pl.Utf8).alias(\"total_revenue_$\"),\n",
        "        pl.col(\"revenue_per_day\").map_elements(fmt_currency, return_dtype=pl.Utf8).alias(\"revenue_per_day_$\")\n",
        "    ]).select([\"store_name\", \"total_revenue_$\", \"total_days_open\", \"revenue_per_day_$\"]) # Moved select to here\n",
        ")\n",
        "\n",
        "# Plot bar chart\n",
        "plt.figure(figsize=(10, 6))\n",
        "plt.bar(revenue_per_day_by_store[\"store_name\"], revenue_per_day_by_store[\"revenue_per_day\"], color=\"#4C72B0\")\n",
        "plt.title(\"Revenue per Day Since Opening by Store\")\n",
        "plt.xlabel(\"Store\")\n",
        "plt.ylabel(\"Revenue per Day ($)\")\n",
        "plt.xticks(rotation=45, ha='right')\n",
        "plt.gca().yaxis.set_major_formatter(mtick.StrMethodFormatter('${x:,.0f}'))\n",
        "plt.tight_layout()\n",
        "plt.show()"
      ]
    },
    {
      "cell_type": "code",
      "execution_count": 36,
      "metadata": {
        "colab": {
          "base_uri": "https://localhost:8080/",
          "height": 193
        },
        "id": "NA7_4ljCSMCe",
        "outputId": "b1886014-d73a-4a4c-f9a4-c133755f7907"
      },
      "outputs": [
        {
          "output_type": "stream",
          "name": "stdout",
          "text": [
            "\n",
            "Tax Rate vs Store Performance (Tax Deducted Revenue per Day):\n"
          ]
        },
        {
          "output_type": "display_data",
          "data": {
            "text/plain": [
              "shape: (2, 4)\n",
              "┌──────────────┬───────────────────┬──────────┬────────────────────────────┐\n",
              "│ store_name   ┆ revenue_per_day_$ ┆ tax_rate ┆ revenue_per_day_with_tax_$ │\n",
              "│ ---          ┆ ---               ┆ ---      ┆ ---                        │\n",
              "│ str          ┆ str               ┆ str      ┆ str                        │\n",
              "╞══════════════╪═══════════════════╪══════════╪════════════════════════════╡\n",
              "│ Brooklyn     ┆ $131,922.71       ┆ 4.0%     ┆ $126,848.76                │\n",
              "│ Philadelphia ┆ $118,398.81       ┆ 6.0%     ┆ $111,696.99                │\n",
              "└──────────────┴───────────────────┴──────────┴────────────────────────────┘"
            ],
            "text/html": [
              "<div><style>\n",
              ".dataframe > thead > tr,\n",
              ".dataframe > tbody > tr {\n",
              "  text-align: right;\n",
              "  white-space: pre-wrap;\n",
              "}\n",
              "</style>\n",
              "<small>shape: (2, 4)</small><table border=\"1\" class=\"dataframe\"><thead><tr><th>store_name</th><th>revenue_per_day_$</th><th>tax_rate</th><th>revenue_per_day_with_tax_$</th></tr><tr><td>str</td><td>str</td><td>str</td><td>str</td></tr></thead><tbody><tr><td>&quot;Brooklyn&quot;</td><td>&quot;$131,922.71&quot;</td><td>&quot;4.0%&quot;</td><td>&quot;$126,848.76&quot;</td></tr><tr><td>&quot;Philadelphia&quot;</td><td>&quot;$118,398.81&quot;</td><td>&quot;6.0%&quot;</td><td>&quot;$111,696.99&quot;</td></tr></tbody></table></div>"
            ]
          },
          "metadata": {}
        }
      ],
      "source": [
        "# Q3.2: Tax rates vs store performance\n",
        "\n",
        "tax_rate_performance = revenue_per_day_by_store.join(\n",
        "    stores.select([\"id\", \"tax_rate\"]), left_on=\"store_id\", right_on=\"id\"\n",
        ").with_columns(\n",
        "    # divide instead of multiply\n",
        "    (pl.col(\"revenue_per_day\") / (1 + pl.col(\"tax_rate\"))).alias(\"revenue_per_day_with_tax\")\n",
        ").select(\n",
        "    [\"store_name\", \"revenue_per_day\", \"tax_rate\", \"revenue_per_day_with_tax\"]\n",
        ").sort(\"tax_rate\")\n",
        "\n",
        "\n",
        "tax_rate_performance = tax_rate_performance.with_columns([\n",
        "    pl.col(\"revenue_per_day\").map_elements(fmt_currency, return_dtype=pl.Utf8).alias(\"revenue_per_day_$\"),\n",
        "    pl.format(\"{}%\", (pl.col(\"tax_rate\") * 100).round(2)).alias(\"tax_rate\"),\n",
        "    pl.col(\"revenue_per_day_with_tax\").map_elements(fmt_currency, return_dtype=pl.Utf8).alias(\"revenue_per_day_with_tax_$\")\n",
        "])\n",
        "\n",
        "print(\"\\nTax Rate vs Store Performance (Tax Deducted Revenue per Day):\")\n",
        "display(\n",
        "    tax_rate_performance.select(\"store_name\", \"revenue_per_day_$\", \"tax_rate\", \"revenue_per_day_with_tax_$\")\n",
        ")"
      ]
    },
    {
      "cell_type": "markdown",
      "metadata": {
        "id": "wjuOx8RDSMCe"
      },
      "source": [
        "## Question 4: Customer Behavior Analysis\n",
        "\n",
        "The Marketing Manager wants to understand customer patterns:\n",
        "- What is the distribution of order values? (Store result in variable: `order_value_distribution`)\n",
        "- How many customers are repeat customers? (Store result in variable: `repeat_customer_analysis`)\n",
        "- Which customers contribute the most to revenue? (Store result in variable: `top_revenue_customers`)"
      ]
    },
    {
      "cell_type": "code",
      "source": [
        "# Q4.1: Distribution of order values\n",
        "order_value_distribution = (orders.select(\n",
        "    pl.col('order_total')).describe()\n",
        "    ).filter(\n",
        "        pl.col('statistic') != 'null_count'\n",
        "    )\n",
        "print(\"Descriptive statistics for Order Total:\", order_value_distribution)\n",
        "\n",
        "plt.hist(orders['order_total'], bins=10, edgecolor='black')\n",
        "plt.xlabel('Order Total')\n",
        "plt.ylabel('Frequency')\n",
        "plt.title('Distribution of Order Values')\n",
        "plt.grid(axis='y', alpha=0.75)\n",
        "plt.show()\n",
        "\n",
        "print(\"As seen from the histogram, as the order total increases the frequency of such orders decrease\")"
      ],
      "metadata": {
        "colab": {
          "base_uri": "https://localhost:8080/",
          "height": 737
        },
        "id": "Kuus0eTTcRED",
        "outputId": "790e9c47-43c2-465d-ba4f-5a07f4b6a35d"
      },
      "execution_count": 41,
      "outputs": [
        {
          "output_type": "stream",
          "name": "stdout",
          "text": [
            "Descriptive statistics for Order Total: shape: (8, 2)\n",
            "┌───────────┬─────────────┐\n",
            "│ statistic ┆ order_total │\n",
            "│ ---       ┆ ---         │\n",
            "│ str       ┆ f64         │\n",
            "╞═══════════╪═════════════╡\n",
            "│ count     ┆ 63148.0     │\n",
            "│ mean      ┆ 1045.76856  │\n",
            "│ std       ┆ 1025.930713 │\n",
            "│ min       ┆ 0.0         │\n",
            "│ 25%       ┆ 530.0       │\n",
            "│ 50%       ┆ 636.0       │\n",
            "│ 75%       ┆ 1165.0      │\n",
            "│ max       ┆ 10281.0     │\n",
            "└───────────┴─────────────┘\n"
          ]
        },
        {
          "output_type": "display_data",
          "data": {
            "text/plain": [
              "<Figure size 640x480 with 1 Axes>"
            ],
            "image/png": "[encoded data removed]"
          },
          "metadata": {}
        },
        {
          "output_type": "stream",
          "name": "stdout",
          "text": [
            "As seen from the histogram, as the order total increases the frequency of such orders decrease\n"
          ]
        }
      ]
    },
    {
      "cell_type": "code",
      "execution_count": 42,
      "metadata": {
        "colab": {
          "base_uri": "https://localhost:8080/",
          "height": 145
        },
        "id": "hEesIJycSMCe",
        "outputId": "7f178eb4-77ae-4be9-de15-372b409ee072"
      },
      "outputs": [
        {
          "output_type": "stream",
          "name": "stdout",
          "text": [
            "Repeat Customer Analysis:\n"
          ]
        },
        {
          "output_type": "display_data",
          "data": {
            "text/plain": [
              "shape: (1, 3)\n",
              "┌─────────────────┬──────────────────┬─────────────────────────────┐\n",
              "│ Total Customers ┆ Repeat Customers ┆ Percentage Repeat Customers │\n",
              "│ ---             ┆ ---              ┆ ---                         │\n",
              "│ i64             ┆ i64              ┆ f64                         │\n",
              "╞═════════════════╪══════════════════╪═════════════════════════════╡\n",
              "│ 930             ┆ 920              ┆ 98.924731                   │\n",
              "└─────────────────┴──────────────────┴─────────────────────────────┘"
            ],
            "text/html": [
              "<div><style>\n",
              ".dataframe > thead > tr,\n",
              ".dataframe > tbody > tr {\n",
              "  text-align: right;\n",
              "  white-space: pre-wrap;\n",
              "}\n",
              "</style>\n",
              "<small>shape: (1, 3)</small><table border=\"1\" class=\"dataframe\"><thead><tr><th>Total Customers</th><th>Repeat Customers</th><th>Percentage Repeat Customers</th></tr><tr><td>i64</td><td>i64</td><td>f64</td></tr></thead><tbody><tr><td>930</td><td>920</td><td>98.924731</td></tr></tbody></table></div>"
            ]
          },
          "metadata": {}
        }
      ],
      "source": [
        "# Q4.2: Repeat customers analysis\n",
        "# Group by customer and count orders\n",
        "customer_order_counts = orders.group_by(\"customer\").agg(pl.len().alias(\"order_count\"))\n",
        "\n",
        "# Identify repeat customers (more than 1 order)\n",
        "repeat_customers = customer_order_counts.filter(pl.col(\"order_count\") > 1)\n",
        "\n",
        "# Count the number of repeat customers and total customers\n",
        "num_repeat_customers = repeat_customers.shape[0]\n",
        "num_total_customers = orders.select(\"customer\").n_unique()\n",
        "\n",
        "# Calculate the percentage of repeat customers\n",
        "percentage_repeat_customers = (num_repeat_customers / num_total_customers) * 100 if num_total_customers > 0 else 0\n",
        "\n",
        "repeat_customer_analysis = pl.DataFrame({\n",
        "    \"Total Customers\": [num_total_customers],\n",
        "    \"Repeat Customers\": [num_repeat_customers],\n",
        "    \"Percentage Repeat Customers\": [percentage_repeat_customers]\n",
        "})\n",
        "\n",
        "print(\"Repeat Customer Analysis:\")\n",
        "display(repeat_customer_analysis)"
      ]
    },
    {
      "cell_type": "code",
      "execution_count": 45,
      "metadata": {
        "colab": {
          "base_uri": "https://localhost:8080/"
        },
        "id": "08DXhVZKSMCe",
        "outputId": "f45a2832-867d-4c42-cbee-5971cfa00c51"
      },
      "outputs": [
        {
          "output_type": "stream",
          "name": "stdout",
          "text": [
            "Top 10 customers contributing most to revenue: shape: (10, 2)\n",
            "┌──────────────────────┬─────────────┐\n",
            "│ name                 ┆ total_spent │\n",
            "│ ---                  ┆ ---         │\n",
            "│ str                  ┆ i64         │\n",
            "╞══════════════════════╪═════════════╡\n",
            "│ David Leonard        ┆ 262647      │\n",
            "│ Jesse Moore          ┆ 259037      │\n",
            "│ Diane Davis          ┆ 258515      │\n",
            "│ Holly Johnson        ┆ 252703      │\n",
            "│ Gregory Hayes        ┆ 249821      │\n",
            "│ Julie Robinson       ┆ 247510      │\n",
            "│ Christopher Robinson ┆ 246325      │\n",
            "│ Douglas Burgess      ┆ 244102      │\n",
            "│ Jacob Brown          ┆ 239641      │\n",
            "│ Jenny Harrell        ┆ 237098      │\n",
            "└──────────────────────┴─────────────┘\n"
          ]
        }
      ],
      "source": [
        "# Q4.3: Top revenue contributors\n",
        "# Group by customer and sum order total\n",
        "revenue_of_customers = orders.group_by(\"customer\").agg(pl.sum(\"order_total\").alias(\"total_spent\")).sort(\"total_spent\", descending=True)\n",
        "\n",
        "top_revenue_customers = revenue_of_customers.join(\n",
        "    customers.select(['id', 'name']),\n",
        "    left_on='customer',\n",
        "    right_on='id',\n",
        "    how='left'\n",
        ")\n",
        "print(\"Top 10 customers contributing most to revenue:\", top_revenue_customers.select(\n",
        "    ['name','total_spent']).sort('total_spent', descending=True).head(10)\n",
        "    )"
      ]
    },
    {
      "cell_type": "markdown",
      "metadata": {
        "id": "jYj5JAAlSMCf"
      },
      "source": [
        "## Question 5: Profitability Deep Dive\n",
        "\n",
        "The CEO needs a comprehensive profitability analysis:\n",
        "- Calculate the gross margin for each product (consider supply costs) (Store result in variable: `product_margins`)\n",
        "- Which products have the highest profit margins? (Store result in variable: `highest_margin_products`)\n",
        "- What is the relationship between order size and profitability? (Store result in variable: `order_size_profitability`)\n",
        "- How does profitability vary across different stores? (Store result in variable: `store_profitability`)"
      ]
    },
    {
      "cell_type": "code",
      "execution_count": 46,
      "metadata": {
        "colab": {
          "base_uri": "https://localhost:8080/",
          "height": 424
        },
        "id": "EIw9IyjuSMCf",
        "outputId": "255575a7-2c8e-4644-d4b4-4acaeaec9506"
      },
      "outputs": [
        {
          "output_type": "stream",
          "name": "stdout",
          "text": [
            "Gross Margin per Product:\n"
          ]
        },
        {
          "output_type": "display_data",
          "data": {
            "text/plain": [
              "shape: (10, 7)\n",
              "┌─────────┬──────────────────┬──────────┬───────┬─────────────────┬─────────────────┬──────────────┐\n",
              "│ sku     ┆ name             ┆ type     ┆ price ┆ description     ┆ total_supply_co ┆ gross_margin │\n",
              "│ ---     ┆ ---              ┆ ---      ┆ ---   ┆ ---             ┆ st              ┆ ---          │\n",
              "│ str     ┆ str              ┆ str      ┆ i64   ┆ str             ┆ ---             ┆ i64          │\n",
              "│         ┆                  ┆          ┆       ┆                 ┆ i64             ┆              │\n",
              "╞═════════╪══════════════════╪══════════╪═══════╪═════════════════╪═════════════════╪══════════════╡\n",
              "│ JAF-001 ┆ nutellaphone who ┆ jaffle   ┆ 1100  ┆ nutella and     ┆ 121             ┆ 979          │\n",
              "│         ┆ dis?             ┆          ┆       ┆ banana jaffle   ┆                 ┆              │\n",
              "│ JAF-002 ┆ doctor stew      ┆ jaffle   ┆ 1100  ┆ house-made beef ┆ 251             ┆ 849          │\n",
              "│         ┆                  ┆          ┆       ┆ stew jaffle     ┆                 ┆              │\n",
              "│ JAF-003 ┆ the krautback    ┆ jaffle   ┆ 1200  ┆ lamb and pork   ┆ 366             ┆ 834          │\n",
              "│         ┆                  ┆          ┆       ┆ bratwurst with  ┆                 ┆              │\n",
              "│         ┆                  ┆          ┆       ┆ h…              ┆                 ┆              │\n",
              "│ JAF-004 ┆ flame impala     ┆ jaffle   ┆ 1400  ┆ pulled pork and ┆ 343             ┆ 1057         │\n",
              "│         ┆                  ┆          ┆       ┆ pineapple al p… ┆                 ┆              │\n",
              "│ JAF-005 ┆ mel-bun          ┆ jaffle   ┆ 1200  ┆ melon and       ┆ 239             ┆ 961          │\n",
              "│         ┆                  ┆          ┆       ┆ minced beef     ┆                 ┆              │\n",
              "│         ┆                  ┆          ┆       ┆ bao, in …       ┆                 ┆              │\n",
              "│ BEV-001 ┆ tangaroo         ┆ beverage ┆ 600   ┆ mango and       ┆ 82              ┆ 518          │\n",
              "│         ┆                  ┆          ┆       ┆ tangerine       ┆                 ┆              │\n",
              "│         ┆                  ┆          ┆       ┆ smoothie        ┆                 ┆              │\n",
              "│ BEV-002 ┆ chai and mighty  ┆ beverage ┆ 500   ┆ oatmilk chai    ┆ 175             ┆ 325          │\n",
              "│         ┆                  ┆          ┆       ┆ latte with      ┆                 ┆              │\n",
              "│         ┆                  ┆          ┆       ┆ protei…         ┆                 ┆              │\n",
              "│ BEV-003 ┆ vanilla ice      ┆ beverage ┆ 600   ┆ iced coffee     ┆ 154             ┆ 446          │\n",
              "│         ┆                  ┆          ┆       ┆ with house-made ┆                 ┆              │\n",
              "│         ┆                  ┆          ┆       ┆ fr…             ┆                 ┆              │\n",
              "│ BEV-004 ┆ for richer or    ┆ beverage ┆ 700   ┆ daily selection ┆ 82              ┆ 618          │\n",
              "│         ┆ pourover         ┆          ┆       ┆ of single esta… ┆                 ┆              │\n",
              "│ BEV-005 ┆ adele-ade        ┆ beverage ┆ 400   ┆ a kiwi and lime ┆ 63              ┆ 337          │\n",
              "│         ┆                  ┆          ┆       ┆ agua fresca, h… ┆                 ┆              │\n",
              "└─────────┴──────────────────┴──────────┴───────┴─────────────────┴─────────────────┴──────────────┘"
            ],
            "text/html": [
              "<div><style>\n",
              ".dataframe > thead > tr,\n",
              ".dataframe > tbody > tr {\n",
              "  text-align: right;\n",
              "  white-space: pre-wrap;\n",
              "}\n",
              "</style>\n",
              "<small>shape: (10, 7)</small><table border=\"1\" class=\"dataframe\"><thead><tr><th>sku</th><th>name</th><th>type</th><th>price</th><th>description</th><th>total_supply_cost</th><th>gross_margin</th></tr><tr><td>str</td><td>str</td><td>str</td><td>i64</td><td>str</td><td>i64</td><td>i64</td></tr></thead><tbody><tr><td>&quot;JAF-001&quot;</td><td>&quot;nutellaphone who dis?&quot;</td><td>&quot;jaffle&quot;</td><td>1100</td><td>&quot;nutella and banana jaffle&quot;</td><td>121</td><td>979</td></tr><tr><td>&quot;JAF-002&quot;</td><td>&quot;doctor stew&quot;</td><td>&quot;jaffle&quot;</td><td>1100</td><td>&quot;house-made beef stew jaffle&quot;</td><td>251</td><td>849</td></tr><tr><td>&quot;JAF-003&quot;</td><td>&quot;the krautback&quot;</td><td>&quot;jaffle&quot;</td><td>1200</td><td>&quot;lamb and pork bratwurst with h…</td><td>366</td><td>834</td></tr><tr><td>&quot;JAF-004&quot;</td><td>&quot;flame impala&quot;</td><td>&quot;jaffle&quot;</td><td>1400</td><td>&quot;pulled pork and pineapple al p…</td><td>343</td><td>1057</td></tr><tr><td>&quot;JAF-005&quot;</td><td>&quot;mel-bun&quot;</td><td>&quot;jaffle&quot;</td><td>1200</td><td>&quot;melon and minced beef bao, in …</td><td>239</td><td>961</td></tr><tr><td>&quot;BEV-001&quot;</td><td>&quot;tangaroo&quot;</td><td>&quot;beverage&quot;</td><td>600</td><td>&quot;mango and tangerine smoothie&quot;</td><td>82</td><td>518</td></tr><tr><td>&quot;BEV-002&quot;</td><td>&quot;chai and mighty&quot;</td><td>&quot;beverage&quot;</td><td>500</td><td>&quot;oatmilk chai latte with protei…</td><td>175</td><td>325</td></tr><tr><td>&quot;BEV-003&quot;</td><td>&quot;vanilla ice&quot;</td><td>&quot;beverage&quot;</td><td>600</td><td>&quot;iced coffee with house-made fr…</td><td>154</td><td>446</td></tr><tr><td>&quot;BEV-004&quot;</td><td>&quot;for richer or pourover &quot;</td><td>&quot;beverage&quot;</td><td>700</td><td>&quot;daily selection of single esta…</td><td>82</td><td>618</td></tr><tr><td>&quot;BEV-005&quot;</td><td>&quot;adele-ade&quot;</td><td>&quot;beverage&quot;</td><td>400</td><td>&quot;a kiwi and lime agua fresca, h…</td><td>63</td><td>337</td></tr></tbody></table></div>"
            ]
          },
          "metadata": {}
        }
      ],
      "source": [
        "# Q5.1: Calculate gross margin per product\n",
        "# Aggregate supply costs by product SKU\n",
        "supply_costs_per_product = supplies.group_by(\"sku\").agg(pl.sum(\"cost\").alias(\"total_supply_cost\"))\n",
        "\n",
        "# Join products with aggregated supply costs\n",
        "product_profitability = products.join(supply_costs_per_product, on=\"sku\", how=\"left\")\n",
        "\n",
        "# Calculate gross margin (Price - Total Supply Cost). Handle products with no supply costs.\n",
        "product_margins = product_profitability.with_columns(\n",
        "    (pl.col(\"price\") - pl.col(\"total_supply_cost\").fill_null(0)).alias(\"gross_margin\")\n",
        ")\n",
        "\n",
        "print(\"Gross Margin per Product:\")\n",
        "display(product_margins)"
      ]
    },
    {
      "cell_type": "code",
      "execution_count": 47,
      "metadata": {
        "colab": {
          "base_uri": "https://localhost:8080/",
          "height": 424
        },
        "id": "1X6Vf6GYSMCf",
        "outputId": "574ed50f-3f9d-4896-ad8d-e4e142ded2c0"
      },
      "outputs": [
        {
          "output_type": "stream",
          "name": "stdout",
          "text": [
            "Products with Highest Profit Margins:\n"
          ]
        },
        {
          "output_type": "display_data",
          "data": {
            "text/plain": [
              "shape: (10, 7)\n",
              "┌─────────┬──────────────────┬──────────┬───────┬─────────────────┬─────────────────┬──────────────┐\n",
              "│ sku     ┆ name             ┆ type     ┆ price ┆ description     ┆ total_supply_co ┆ gross_margin │\n",
              "│ ---     ┆ ---              ┆ ---      ┆ ---   ┆ ---             ┆ st              ┆ ---          │\n",
              "│ str     ┆ str              ┆ str      ┆ i64   ┆ str             ┆ ---             ┆ i64          │\n",
              "│         ┆                  ┆          ┆       ┆                 ┆ i64             ┆              │\n",
              "╞═════════╪══════════════════╪══════════╪═══════╪═════════════════╪═════════════════╪══════════════╡\n",
              "│ JAF-004 ┆ flame impala     ┆ jaffle   ┆ 1400  ┆ pulled pork and ┆ 343             ┆ 1057         │\n",
              "│         ┆                  ┆          ┆       ┆ pineapple al p… ┆                 ┆              │\n",
              "│ JAF-001 ┆ nutellaphone who ┆ jaffle   ┆ 1100  ┆ nutella and     ┆ 121             ┆ 979          │\n",
              "│         ┆ dis?             ┆          ┆       ┆ banana jaffle   ┆                 ┆              │\n",
              "│ JAF-005 ┆ mel-bun          ┆ jaffle   ┆ 1200  ┆ melon and       ┆ 239             ┆ 961          │\n",
              "│         ┆                  ┆          ┆       ┆ minced beef     ┆                 ┆              │\n",
              "│         ┆                  ┆          ┆       ┆ bao, in …       ┆                 ┆              │\n",
              "│ JAF-002 ┆ doctor stew      ┆ jaffle   ┆ 1100  ┆ house-made beef ┆ 251             ┆ 849          │\n",
              "│         ┆                  ┆          ┆       ┆ stew jaffle     ┆                 ┆              │\n",
              "│ JAF-003 ┆ the krautback    ┆ jaffle   ┆ 1200  ┆ lamb and pork   ┆ 366             ┆ 834          │\n",
              "│         ┆                  ┆          ┆       ┆ bratwurst with  ┆                 ┆              │\n",
              "│         ┆                  ┆          ┆       ┆ h…              ┆                 ┆              │\n",
              "│ BEV-004 ┆ for richer or    ┆ beverage ┆ 700   ┆ daily selection ┆ 82              ┆ 618          │\n",
              "│         ┆ pourover         ┆          ┆       ┆ of single esta… ┆                 ┆              │\n",
              "│ BEV-001 ┆ tangaroo         ┆ beverage ┆ 600   ┆ mango and       ┆ 82              ┆ 518          │\n",
              "│         ┆                  ┆          ┆       ┆ tangerine       ┆                 ┆              │\n",
              "│         ┆                  ┆          ┆       ┆ smoothie        ┆                 ┆              │\n",
              "│ BEV-003 ┆ vanilla ice      ┆ beverage ┆ 600   ┆ iced coffee     ┆ 154             ┆ 446          │\n",
              "│         ┆                  ┆          ┆       ┆ with house-made ┆                 ┆              │\n",
              "│         ┆                  ┆          ┆       ┆ fr…             ┆                 ┆              │\n",
              "│ BEV-005 ┆ adele-ade        ┆ beverage ┆ 400   ┆ a kiwi and lime ┆ 63              ┆ 337          │\n",
              "│         ┆                  ┆          ┆       ┆ agua fresca, h… ┆                 ┆              │\n",
              "│ BEV-002 ┆ chai and mighty  ┆ beverage ┆ 500   ┆ oatmilk chai    ┆ 175             ┆ 325          │\n",
              "│         ┆                  ┆          ┆       ┆ latte with      ┆                 ┆              │\n",
              "│         ┆                  ┆          ┆       ┆ protei…         ┆                 ┆              │\n",
              "└─────────┴──────────────────┴──────────┴───────┴─────────────────┴─────────────────┴──────────────┘"
            ],
            "text/html": [
              "<div><style>\n",
              ".dataframe > thead > tr,\n",
              ".dataframe > tbody > tr {\n",
              "  text-align: right;\n",
              "  white-space: pre-wrap;\n",
              "}\n",
              "</style>\n",
              "<small>shape: (10, 7)</small><table border=\"1\" class=\"dataframe\"><thead><tr><th>sku</th><th>name</th><th>type</th><th>price</th><th>description</th><th>total_supply_cost</th><th>gross_margin</th></tr><tr><td>str</td><td>str</td><td>str</td><td>i64</td><td>str</td><td>i64</td><td>i64</td></tr></thead><tbody><tr><td>&quot;JAF-004&quot;</td><td>&quot;flame impala&quot;</td><td>&quot;jaffle&quot;</td><td>1400</td><td>&quot;pulled pork and pineapple al p…</td><td>343</td><td>1057</td></tr><tr><td>&quot;JAF-001&quot;</td><td>&quot;nutellaphone who dis?&quot;</td><td>&quot;jaffle&quot;</td><td>1100</td><td>&quot;nutella and banana jaffle&quot;</td><td>121</td><td>979</td></tr><tr><td>&quot;JAF-005&quot;</td><td>&quot;mel-bun&quot;</td><td>&quot;jaffle&quot;</td><td>1200</td><td>&quot;melon and minced beef bao, in …</td><td>239</td><td>961</td></tr><tr><td>&quot;JAF-002&quot;</td><td>&quot;doctor stew&quot;</td><td>&quot;jaffle&quot;</td><td>1100</td><td>&quot;house-made beef stew jaffle&quot;</td><td>251</td><td>849</td></tr><tr><td>&quot;JAF-003&quot;</td><td>&quot;the krautback&quot;</td><td>&quot;jaffle&quot;</td><td>1200</td><td>&quot;lamb and pork bratwurst with h…</td><td>366</td><td>834</td></tr><tr><td>&quot;BEV-004&quot;</td><td>&quot;for richer or pourover &quot;</td><td>&quot;beverage&quot;</td><td>700</td><td>&quot;daily selection of single esta…</td><td>82</td><td>618</td></tr><tr><td>&quot;BEV-001&quot;</td><td>&quot;tangaroo&quot;</td><td>&quot;beverage&quot;</td><td>600</td><td>&quot;mango and tangerine smoothie&quot;</td><td>82</td><td>518</td></tr><tr><td>&quot;BEV-003&quot;</td><td>&quot;vanilla ice&quot;</td><td>&quot;beverage&quot;</td><td>600</td><td>&quot;iced coffee with house-made fr…</td><td>154</td><td>446</td></tr><tr><td>&quot;BEV-005&quot;</td><td>&quot;adele-ade&quot;</td><td>&quot;beverage&quot;</td><td>400</td><td>&quot;a kiwi and lime agua fresca, h…</td><td>63</td><td>337</td></tr><tr><td>&quot;BEV-002&quot;</td><td>&quot;chai and mighty&quot;</td><td>&quot;beverage&quot;</td><td>500</td><td>&quot;oatmilk chai latte with protei…</td><td>175</td><td>325</td></tr></tbody></table></div>"
            ]
          },
          "metadata": {}
        }
      ],
      "source": [
        "# Q5.2: Products with highest profit margins\n",
        "highest_margin_products = product_margins.sort(\"gross_margin\", descending=True)\n",
        "\n",
        "print(\"Products with Highest Profit Margins:\")\n",
        "display(highest_margin_products)"
      ]
    },
    {
      "cell_type": "code",
      "execution_count": 56,
      "metadata": {
        "colab": {
          "base_uri": "https://localhost:8080/",
          "height": 734
        },
        "id": "C1j7rlDnSMCf",
        "outputId": "7be71a82-fd82-4ecf-ca58-dbe5cc630347"
      },
      "outputs": [
        {
          "output_type": "stream",
          "name": "stdout",
          "text": [
            "Order Size vs Profitability:\n"
          ]
        },
        {
          "output_type": "display_data",
          "data": {
            "text/plain": [
              "shape: (5, 3)\n",
              "┌─────────────────────────────────┬────────────────────┬─────────────┐\n",
              "│ order_id                        ┆ total_gross_margin ┆ order_total │\n",
              "│ ---                             ┆ ---                ┆ ---         │\n",
              "│ str                             ┆ i64                ┆ i64         │\n",
              "╞═════════════════════════════════╪════════════════════╪═════════════╡\n",
              "│ 363ab5f2-78b4-4227-9333-9701ef… ┆ 1885               ┆ 1802        │\n",
              "│ d6cdb882-aa8c-4b5a-a478-4321ef… ┆ 518                ┆ 636         │\n",
              "│ ca934a93-aca1-4aeb-9786-efb0da… ┆ 618                ┆ 742         │\n",
              "│ ecd64383-c4df-41aa-b270-f3b110… ┆ 325                ┆ 530         │\n",
              "│ adae1fcd-20b7-4f40-af1c-dc121d… ┆ 446                ┆ 636         │\n",
              "└─────────────────────────────────┴────────────────────┴─────────────┘"
            ],
            "text/html": [
              "<div><style>\n",
              ".dataframe > thead > tr,\n",
              ".dataframe > tbody > tr {\n",
              "  text-align: right;\n",
              "  white-space: pre-wrap;\n",
              "}\n",
              "</style>\n",
              "<small>shape: (5, 3)</small><table border=\"1\" class=\"dataframe\"><thead><tr><th>order_id</th><th>total_gross_margin</th><th>order_total</th></tr><tr><td>str</td><td>i64</td><td>i64</td></tr></thead><tbody><tr><td>&quot;363ab5f2-78b4-4227-9333-9701ef…</td><td>1885</td><td>1802</td></tr><tr><td>&quot;d6cdb882-aa8c-4b5a-a478-4321ef…</td><td>518</td><td>636</td></tr><tr><td>&quot;ca934a93-aca1-4aeb-9786-efb0da…</td><td>618</td><td>742</td></tr><tr><td>&quot;ecd64383-c4df-41aa-b270-f3b110…</td><td>325</td><td>530</td></tr><tr><td>&quot;adae1fcd-20b7-4f40-af1c-dc121d…</td><td>446</td><td>636</td></tr></tbody></table></div>"
            ]
          },
          "metadata": {}
        },
        {
          "output_type": "display_data",
          "data": {
            "text/plain": [
              "<Figure size 640x480 with 1 Axes>"
            ],
            "image/png": "[encoded data removed]"
          },
          "metadata": {}
        },
        {
          "output_type": "stream",
          "name": "stdout",
          "text": [
            "As seen from the graph, the relationship between total gross margin and order total is almost linear, and they have a positive correlation\n"
          ]
        }
      ],
      "source": [
        "# Q5.3: Order size vs profitability\n",
        "# Join items with product_margins to get gross margin per item\n",
        "items_with_margin = items.join(product_margins.select([\"sku\", \"gross_margin\"]), on=\"sku\", how=\"left\")\n",
        "\n",
        "# Calculate total gross margin per order\n",
        "order_profitability = items_with_margin.group_by(\"order_id\").agg(pl.sum(\"gross_margin\").alias(\"total_gross_margin\"))\n",
        "\n",
        "# Join with orders to get order total (order size)\n",
        "order_size_profitability = order_profitability.join(orders.select([\"id\", \"order_total\"]), left_on=\"order_id\", right_on=\"id\")\n",
        "\n",
        "print(\"Order Size vs Profitability:\")\n",
        "display(order_size_profitability.head()) # Displaying the first few rows to show the structure\n",
        "\n",
        "plt.scatter(\n",
        "    order_size_profitability['order_total'],\n",
        "    order_size_profitability['total_gross_margin'],\n",
        "    s=1,\n",
        "    alpha=1,\n",
        "    c='indigo'\n",
        ")\n",
        "plt.xlabel('Order Total')\n",
        "plt.ylabel('Total Gross Margin')\n",
        "plt.title('Order Total vs. Total Gross Margin')\n",
        "plt.grid(True)\n",
        "plt.show()\n",
        "\n",
        "print(\"As seen from the graph, the relationship between total gross margin and order total is almost linear, and they have a positive correlation\")"
      ]
    },
    {
      "cell_type": "code",
      "execution_count": 57,
      "metadata": {
        "colab": {
          "base_uri": "https://localhost:8080/",
          "height": 176
        },
        "id": "o7VaKujmSMCg",
        "outputId": "444b52b7-63a1-4341-d69d-c663495abed2"
      },
      "outputs": [
        {
          "output_type": "stream",
          "name": "stdout",
          "text": [
            "Profitability by Store:\n"
          ]
        },
        {
          "output_type": "display_data",
          "data": {
            "text/plain": [
              "shape: (2, 3)\n",
              "┌─────────────────────────────────┬──────────────────────────┬──────────────┐\n",
              "│ store_id                        ┆ total_store_gross_margin ┆ name         │\n",
              "│ ---                             ┆ ---                      ┆ ---          │\n",
              "│ str                             ┆ i64                      ┆ str          │\n",
              "╞═════════════════════════════════╪══════════════════════════╪══════════════╡\n",
              "│ a9128331-08d7-41a2-b615-21283e… ┆ 32358060                 ┆ Philadelphia │\n",
              "│ a2a24e87-dec8-4f5d-9c9e-0e9849… ┆ 17408441                 ┆ Brooklyn     │\n",
              "└─────────────────────────────────┴──────────────────────────┴──────────────┘"
            ],
            "text/html": [
              "<div><style>\n",
              ".dataframe > thead > tr,\n",
              ".dataframe > tbody > tr {\n",
              "  text-align: right;\n",
              "  white-space: pre-wrap;\n",
              "}\n",
              "</style>\n",
              "<small>shape: (2, 3)</small><table border=\"1\" class=\"dataframe\"><thead><tr><th>store_id</th><th>total_store_gross_margin</th><th>name</th></tr><tr><td>str</td><td>i64</td><td>str</td></tr></thead><tbody><tr><td>&quot;a9128331-08d7-41a2-b615-21283e…</td><td>32358060</td><td>&quot;Philadelphia&quot;</td></tr><tr><td>&quot;a2a24e87-dec8-4f5d-9c9e-0e9849…</td><td>17408441</td><td>&quot;Brooklyn&quot;</td></tr></tbody></table></div>"
            ]
          },
          "metadata": {}
        }
      ],
      "source": [
        "# Q5.4: Profitability by store\n",
        "# Join orders with order_profitability to get total gross margin per order with store_id\n",
        "orders_with_profit = orders.join(order_profitability, left_on=\"id\", right_on=\"order_id\")\n",
        "\n",
        "# Group by store_id and sum the total_gross_margin\n",
        "store_profitability = orders_with_profit.group_by(\"store_id\").agg(pl.sum(\"total_gross_margin\").alias(\"total_store_gross_margin\")).join(stores.select([\"id\", \"name\"]), left_on=\"store_id\", right_on=\"id\")\n",
        "\n",
        "print(\"Profitability by Store:\")\n",
        "display(store_profitability)"
      ]
    },
    {
      "cell_type": "markdown",
      "metadata": {
        "id": "H7lMqnXLSMCg"
      },
      "source": [
        "## Question 6: Business Optimization Recommendations\n",
        "\n",
        "Based on your analysis, provide three specific, data-driven recommendations to improve business performance. Support each recommendation with relevant metrics and visualizations."
      ]
    },
    {
      "cell_type": "markdown",
      "metadata": {
        "id": "0da29e6c"
      },
      "source": [
        "### Recommendation 1: Focus on Boosting Weekend Revenue\n",
        "\n",
        "**Observation:** The analysis of revenue by day of the week (Question 1.4 and chart) clearly shows that Saturday and Sunday have significantly lower revenue compared to weekdays. There is a substantial opportunity to increase overall revenue by attracting more customers on weekends.\n",
        "\n",
        "**Recommendation:** Implement targeted marketing campaigns and promotions specifically for weekends. This could include:\n",
        "* Weekend-only discounts or special offers.\n",
        "* Partnering with local events or businesses that are popular on weekends.\n",
        "* Introducing limited-time weekend menu items with higher profit margins.\n",
        "\n",
        "**Supporting Analysis:**\n",
        "* **Metrics:** Compare weekend revenue before and after implementing promotions. Track the number of transactions and average order value on weekends.\n",
        "* **Visualization:** Create a time series plot showing daily revenue with markers indicating promotion periods to visualize their impact."
      ]
    },
    {
      "cell_type": "markdown",
      "metadata": {
        "id": "8b66bb75"
      },
      "source": [
        "### Recommendation 2: Leverage High-Margin Products\n",
        "\n",
        "**Observation:** The profitability analysis (Question 5.2) identified products with the highest gross margins (e.g., 'flame impala', 'nutellaphone who dis?', 'mel-bun', and 'for richer or pourover'). Focusing on selling more of these items can directly increase overall profitability.\n",
        "\n",
        "**Recommendation:** Promote high-margin products through various channels:\n",
        "* Feature them prominently on the menu, both in-store and online.\n",
        "* Train staff to upsell these items.\n",
        "* Run promotions or create bundles that include high-margin products.\n",
        "\n",
        "**Supporting Analysis:**\n",
        "* **Metrics:** Track the sales volume and revenue contribution of high-margin products. Calculate the overall gross margin percentage and monitor its change.\n",
        "* **Visualization:** Create a bar chart showing the gross margin for each product to visually highlight the high-margin items."
      ]
    },
    {
      "cell_type": "markdown",
      "metadata": {
        "id": "c2978b06"
      },
      "source": [
        "### Recommendation 3: Investigate Store Performance Discrepancies\n",
        "\n",
        "**Observation:** The analysis of revenue per day since opening (Question 3.1) shows that the Brooklyn store has a higher revenue per day despite being open for a shorter period compared to the Philadelphia store. While the tax rate analysis (Question 3.2) with only two data points is inconclusive, there might be other factors contributing to the difference in performance.\n",
        "\n",
        "**Recommendation:** Conduct a deeper investigation into the factors contributing to the Brooklyn store's higher revenue per day. This could involve:\n",
        "* Analyzing customer demographics and local competition in both areas.\n",
        "* Comparing operational efficiency, marketing efforts, and customer service between the stores.\n",
        "* Reviewing local market trends and preferences.\n",
        "\n",
        "**Supporting Analysis:**\n",
        "* **Metrics:** Analyze customer acquisition cost and customer lifetime value by store. Compare sales volume and average order value by product category in each store.\n",
        "* **Visualization:** Create a comparative dashboard showing key performance indicators (KPIs) for each store side-by-side."
      ]
    },
    {
      "cell_type": "code",
      "source": [],
      "metadata": {
        "id": "af_N_NOHimu1"
      },
      "execution_count": null,
      "outputs": []
    },
    {
      "cell_type": "markdown",
      "metadata": {
        "id": "679203d1"
      },
      "source": [
        "## Executive Summary\n",
        "\n",
        "This report presents a comprehensive data-driven analysis of Jaffle Shop's business performance, leveraging datasets on customers, orders, items, products, stores, and supplies using the Polars library. The analysis aimed to provide insights into revenue performance, product profitability, store expansion potential, and customer behavior to support strategic decision-making by the executive team, Product Manager, Operations Director, and Marketing Manager.\n",
        "\n",
        "### Key Findings:\n",
        "\n",
        "1.  **Significant Weekend Revenue Gap:** The analysis of daily revenue trends (Question 1.4) revealed a notable disparity, with Saturday and Sunday generating substantially lower revenue compared to weekdays. This indicates a considerable untapped potential to increase overall sales volume and revenue during the weekend period. For example, Saturday and Sunday combined generated approximately $12.2 million in revenue, while weekdays each generated over $10.6 million.\n",
        "\n",
        "2.  **Identified High-Margin Product Opportunities:** The profitability analysis (Question 5.2) highlighted specific products with superior gross margins after accounting for supply costs. Products like 'flame impala', 'nutellaphone who dis?', 'mel-bun', and 'for richer or pourover' stand out as particularly profitable. Focusing efforts on increasing the sales of these items can directly lead to an improvement in the company's bottom line.\n",
        "\n",
        "3.  **Variance in Store Performance Efficiency:** Evaluating revenue per day since opening (Question 3.1) showed that the Brooklyn store, despite being operational for a shorter duration (173 days) compared to the Philadelphia store (365 days), achieved a higher average revenue per day (approximately $131,922 vs.\n",
        "$118,398). While the relationship between local tax rates and performance (Question 3.2) with only two stores was inconclusive, this difference in performance suggests that factors beyond tax rates may be at play, and understanding these could inform future expansion and operational strategies.\n",
        "\n",
        "### Strategic Recommendations:\n",
        "\n",
        "1.  **Implement Targeted Weekend Growth Initiatives:** To address the weekend revenue gap, Jaffle Shop should develop and execute targeted marketing campaigns and promotions specifically designed to attract customers on Saturdays and Sundays. This could involve offering weekend-specific discounts, creating limited-time special menu items with appealing margins, or partnering with local weekend events to drive foot traffic. The success of these initiatives should be measured by tracking weekend revenue growth, transaction volume, and average order value.\n",
        "\n",
        "2.  **Prioritize and Promote High-Margin Products:** To enhance overall profitability, Jaffle Shop should strategically promote the identified high-margin products. This can be achieved by giving these items prominent placement on menus (physical and digital), training staff to actively recommend and upsell them, and incorporating them into attractive bundled offers. Monitoring the sales volume and revenue contribution of these products, as well as the overall gross margin percentage, will be crucial for evaluating the effectiveness of these efforts.\n",
        "\n",
        "3.  **Conduct a Detailed Cross-Store Performance Study:** To capitalize on the observed higher revenue per day in the Brooklyn store, a detailed investigation is recommended to understand the contributing factors. This study should delve into local market characteristics, customer demographics, competitive landscapes, operational practices, marketing strategies, and customer service approaches in both the Brooklyn and Philadelphia locations. Identifying the key drivers of Brooklyn's higher performance can provide valuable insights and transferable best practices for improving performance in other existing stores and informing decisions for future store expansion locations and operational models. Key performance indicators (KPIs) such as customer acquisition cost, customer lifetime value, sales volume by product category, and average order value should be compared across stores as part of this investigation."
      ]
    },
    {
      "cell_type": "code",
      "source": [],
      "metadata": {
        "id": "s04kF_1UjNpO"
      },
      "execution_count": null,
      "outputs": []
    },
    {
      "cell_type": "markdown",
      "metadata": {
        "id": "527e22b4"
      },
      "source": [
        "## Executive Summary\n",
        "\n",
        "This report presents a comprehensive data-driven analysis of Jaffle Shop's business performance, leveraging datasets on customers, orders, items, products, stores, and supplies using the Polars library. The analysis aimed to provide insights into revenue performance, product profitability, store expansion potential, and customer behavior to support strategic decision-making by the executive team, Product Manager, Operations Director, and Marketing Manager.\n",
        "\n",
        "### Key Findings:\n",
        "\n",
        "1.  **Significant Weekend Revenue Gap:** The analysis of daily revenue trends (Question 1.4) revealed a notable disparity, with Saturday and Sunday generating substantially lower revenue compared to weekdays. This indicates a considerable untapped potential to increase overall sales volume and revenue during the weekend period. For example, Saturday and Sunday combined generated approximately \\\\$12.2 million in revenue, while weekdays each generated over \\\\$10.6 million.\n",
        "\n",
        "2.  **Identified High-Margin Product Opportunities:** The profitability analysis (Question 5.2) highlighted specific products with superior gross margins after accounting for supply costs. Products like 'flame impala', 'nutellaphone who dis?', 'mel-bun', and 'for richer or pourover' stand out as particularly profitable. Focusing efforts on increasing the sales of these items can directly lead to an improvement in the company's bottom line.\n",
        "\n",
        "3.  **Variance in Store Performance Efficiency:** Evaluating revenue per day since opening (Question 3.1) showed that the Brooklyn store, despite being operational for a shorter duration (173 days) compared to the Philadelphia store (365 days), achieved a higher average revenue per day (approximately \\\\$131,922 vs. \\\\$118,398). While the relationship between local tax rates and performance (Question 3.2) with only two stores was inconclusive, this difference in performance suggests that factors beyond tax rates may be at play, and understanding these could inform future expansion and operational strategies.\n",
        "\n",
        "### Strategic Recommendations:\n",
        "\n",
        "1.  **Implement Targeted Weekend Growth Initiatives:** To address the weekend revenue gap, Jaffle Shop should develop and execute targeted marketing campaigns and promotions specifically designed to attract customers on Saturdays and Sundays. This could involve offering weekend-specific discounts, creating limited-time special menu items with appealing margins, or partnering with local weekend events to drive foot traffic. The success of these initiatives should be measured by tracking weekend revenue growth, transaction volume, and average order value.\n",
        "\n",
        "2.  **Prioritize and Promote High-Margin Products:** To enhance overall profitability, Jaffle Shop should strategically promote the identified high-margin products. This can be achieved by giving these items prominent placement on menus (physical and digital), training staff to actively recommend and upsell them, and incorporating them into attractive bundled offers. Monitoring the sales volume and revenue contribution of these products, as well as the overall gross margin percentage, will be crucial for evaluating the effectiveness of these efforts.\n",
        "\n",
        "3.  **Conduct a Detailed Cross-Store Performance Study:** To capitalize on the observed higher revenue per day in the Brooklyn store, a detailed investigation is recommended to understand the contributing factors. This study should delve into local market characteristics, customer demographics, competitive landscapes, operational practices, marketing strategies, and customer service approaches in both the Brooklyn and Philadelphia locations. Identifying the key drivers of Brooklyn's higher performance can provide valuable insights and transferable best practices for improving performance in other existing stores and informing decisions for future store expansion locations and operational models. Key performance indicators (KPIs) such as customer acquisition cost, customer lifetime value, sales volume by product category, and average order value should be compared across stores as part of this investigation."
      ]
    }
  ],
  "metadata": {
    "kernelspec": {
      "display_name": "opan5510-finalproject",
      "language": "python",
      "name": "python3"
    },
    "language_info": {
      "codemirror_mode": {
        "name": "ipython",
        "version": 3
      },
      "file_extension": ".py",
      "mimetype": "text/x-python",
      "name": "python",
      "nbconvert_exporter": "python",
      "pygments_lexer": "ipython3",
      "version": "3.12.10"
    },
    "colab": {
      "provenance": []
    }
  },
  "nbformat": 4,
  "nbformat_minor": 0
}